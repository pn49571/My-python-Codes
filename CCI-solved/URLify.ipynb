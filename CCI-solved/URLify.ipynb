{
 "cells": [
  {
   "cell_type": "code",
   "execution_count": 12,
   "metadata": {
    "collapsed": false
   },
   "outputs": [],
   "source": [
    "def removeSpaces(string):\n",
    " \n",
    "    # To keep track of non-space character count\n",
    "    count = 0\n",
    " \n",
    "    list = []\n",
    " \n",
    "    # Traverse the given string. If current character\n",
    "    # is not space, then place it at index 'count++'\n",
    "    for i in range(len(string)):\n",
    "        if string[i] != ' ':\n",
    "            list.append(string[i])\n",
    "        else:\n",
    "            list.append('%20')\n",
    " \n",
    "    print (''.join(map(str, list)))"
   ]
  },
  {
   "cell_type": "code",
   "execution_count": 13,
   "metadata": {
    "collapsed": false
   },
   "outputs": [
    {
     "name": "stdout",
     "output_type": "stream",
     "text": [
      "g%20%20eeks%20%20for%20ge%20%20eeks%20%20\n"
     ]
    }
   ],
   "source": [
    "string = \"g  eeks  for ge  eeks  \"\n",
    "removeSpaces(string)"
   ]
  },
  {
   "cell_type": "code",
   "execution_count": null,
   "metadata": {
    "collapsed": true
   },
   "outputs": [],
   "source": []
  }
 ],
 "metadata": {
  "kernelspec": {
   "display_name": "Python 3",
   "language": "python",
   "name": "python3"
  },
  "language_info": {
   "codemirror_mode": {
    "name": "ipython",
    "version": 3
   },
   "file_extension": ".py",
   "mimetype": "text/x-python",
   "name": "python",
   "nbconvert_exporter": "python",
   "pygments_lexer": "ipython3",
   "version": "3.5.2"
  }
 },
 "nbformat": 4,
 "nbformat_minor": 1
}
