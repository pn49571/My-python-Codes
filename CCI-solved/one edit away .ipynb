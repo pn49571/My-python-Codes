{
 "cells": [
  {
   "cell_type": "code",
   "execution_count": null,
   "metadata": {
    "collapsed": true
   },
   "outputs": [],
   "source": [
    "# Python program to check if given two strings are\n",
    "# at distance one\n",
    " \n",
    "# Returns true if edit distance between s1 and s2 is\n",
    "# one, else false\n",
    "def isEditDistanceOne(s1, s2):\n",
    " \n",
    "    # Find lengths of given strings\n",
    "    m = len(s1)\n",
    "    n = len(s2)\n",
    " \n",
    "    # If difference between lengths is more than 1,\n",
    "    # then strings can't be at one distance\n",
    "    if abs(m - n) > 1:\n",
    "        return false\n",
    " \n",
    "    count = 0    # Count of isEditDistanceOne\n",
    " \n",
    "    i = 0\n",
    "    j = 0\n",
    "    while i < m and j < n:\n",
    "        # If current characters dont match\n",
    "        if s1[i] != s2[j]:\n",
    "            if count == 1:\n",
    "                return false\n",
    " \n",
    "            # If length of one string is\n",
    "            # more, then only possible edit\n",
    "            # is to remove a character\n",
    "            if m > n:\n",
    "                i+=1\n",
    "            elif m < n:\n",
    "                j+=1\n",
    "            else:    # If lengths of both strings is same\n",
    "                i+=1\n",
    "                j+=1\n",
    " \n",
    "            # Increment count of edits\n",
    "            count+=1\n",
    " \n",
    "        else:    # if current characters match\n",
    "            i+=1\n",
    "            j+=1\n",
    " \n",
    "    # if last character is extra in any string\n",
    "    if i < m or j < n:\n",
    "        count+=1\n",
    " \n",
    "    return count == 1"
   ]
  }
 ],
 "metadata": {
  "kernelspec": {
   "display_name": "Python 3",
   "language": "python",
   "name": "python3"
  },
  "language_info": {
   "codemirror_mode": {
    "name": "ipython",
    "version": 3
   },
   "file_extension": ".py",
   "mimetype": "text/x-python",
   "name": "python",
   "nbconvert_exporter": "python",
   "pygments_lexer": "ipython3",
   "version": "3.5.2"
  }
 },
 "nbformat": 4,
 "nbformat_minor": 1
}
